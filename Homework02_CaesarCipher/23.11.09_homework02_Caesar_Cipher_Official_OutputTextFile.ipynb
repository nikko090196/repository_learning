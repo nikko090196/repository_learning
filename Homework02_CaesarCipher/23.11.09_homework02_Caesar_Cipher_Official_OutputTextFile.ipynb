{
 "cells": [
  {
   "cell_type": "code",
   "execution_count": 3,
   "metadata": {},
   "outputs": [],
   "source": [
    "##Official - Output print on .txt file\n",
    "\n",
    "#Step: Output print on .txt file:\n",
    "import sys\n",
    "sys.stdout = open('23.11.09_homework02_Caesar_Cipher_Official_OutputTextFile.txt','wt')\n",
    "\n",
    "\n",
    "#Type you message:\n",
    "message = input(\"Please type the message that you want to encrypt/decrypt:\")\n",
    "capital_message = message.upper()\n",
    "print(f\"I want to encrypt/decrypt {capital_message} based on Caesar Cipher.\")\n",
    "\n",
    "#Type your shift key number k:\n",
    "number = \"\"\n",
    "while True:\n",
    "    number = input(\"Please enter a shift key number. Please not that: If you shift to left, it will be a negative integer; If you shift to right, it will be a positive integer.\")\n",
    "    try:\n",
    "        number = int(number)\n",
    "        k = number\n",
    "        print(\"Shift key number =\", k)\n",
    "        break \n",
    "    except ValueError:\n",
    "        print(f\"Your answer '{number.upper()}' is not a valid integer for the shift key number.\")\n",
    "\n",
    "#Encryption or Decryption depending on key value (k)):\n",
    "alphabet_list = [\"A\", \"B\", \"C\", \"D\", \"E\", \"F\", \"G\", \"H\", \"I\", \"J\", \"K\", \"L\", \"M\", \"N\", \"O\", \"P\", \"Q\", \"R\", \"S\", \"T\", \"U\", \"V\", \"W\", \"X\", \"Y\", \"Z\"]\n",
    "def cipher(capital_message,k): #k is a shift number\n",
    "    encrypted_message = \"\"\n",
    "    for character in capital_message:\n",
    "        if character.isalpha(): #examines a string for alphabetical characters and returns True only if the string contains all alphabetical characters\n",
    "            if character in alphabet_list:\n",
    "                character_position = alphabet_list.index(character)\n",
    "                encrypted_character_position = (character_position + k)%len(alphabet_list) #formula of Modulo Operator\n",
    "                encrypted_character = alphabet_list[encrypted_character_position]\n",
    "                encrypted_message += encrypted_character #like appending the encrypted character back to the encrypted message.\n",
    "        else:\n",
    "            encrypted_message += character #non-alphabet character will stay the same on the encrypted message.\n",
    "    return encrypted_message \n",
    "\n",
    "encrypted_message = cipher(capital_message, k)\n",
    "print (f\"Here is your encrypted/decrypted message: {encrypted_message}\")\n",
    "\n",
    "\n"
   ]
  }
 ],
 "metadata": {
  "kernelspec": {
   "display_name": "Python 3",
   "language": "python",
   "name": "python3"
  },
  "language_info": {
   "codemirror_mode": {
    "name": "ipython",
    "version": 3
   },
   "file_extension": ".py",
   "mimetype": "text/x-python",
   "name": "python",
   "nbconvert_exporter": "python",
   "pygments_lexer": "ipython3",
   "version": "3.12.0"
  }
 },
 "nbformat": 4,
 "nbformat_minor": 2
}
